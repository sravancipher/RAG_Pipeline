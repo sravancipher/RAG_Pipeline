{
 "cells": [
  {
   "cell_type": "markdown",
   "id": "3e1eea81",
   "metadata": {},
   "source": [
    "Data Ingestion"
   ]
  },
  {
   "cell_type": "code",
   "execution_count": 1,
   "id": "2fae01b2",
   "metadata": {},
   "outputs": [
    {
     "data": {
      "text/plain": [
       "Document(metadata={'source': 'greeting.txt'}, page_content='Hello, world!')"
      ]
     },
     "execution_count": 1,
     "metadata": {},
     "output_type": "execute_result"
    }
   ],
   "source": [
    "from langchain_core.documents import Document\n",
    "doc=Document(page_content=\"Hello, world!\", metadata={\"source\": \"greeting.txt\"})\n",
    "doc"
   ]
  },
  {
   "cell_type": "code",
   "execution_count": 2,
   "id": "c23361bf",
   "metadata": {},
   "outputs": [],
   "source": [
    "import os\n",
    "os.makedirs(\"data/text_files\", exist_ok=True)"
   ]
  },
  {
   "cell_type": "code",
   "execution_count": 3,
   "id": "bf574de3",
   "metadata": {},
   "outputs": [],
   "source": [
    "sample_files={\n",
    "    \"data/text_files/file1.txt\":  \"This is the content of file 1 created by sravan.\",\n",
    "    \"data/text_files/file2.txt\":  \"This is the content of file 2 created by karthik.\",\n",
    "}\n",
    "for file_path,content in sample_files.items():\n",
    "    with open(file_path,\"w\") as f:\n",
    "        f.write(content)   \n"
   ]
  },
  {
   "cell_type": "code",
   "execution_count": 4,
   "id": "08ec6bf2",
   "metadata": {},
   "outputs": [
    {
     "data": {
      "text/plain": [
       "[Document(metadata={'source': 'data\\\\text_files\\\\file1.txt'}, page_content='This is the content of file 1 created by sravan.'),\n",
       " Document(metadata={'source': 'data\\\\text_files\\\\file2.txt'}, page_content='This is the content of file 2 created by karthik.')]"
      ]
     },
     "execution_count": 4,
     "metadata": {},
     "output_type": "execute_result"
    }
   ],
   "source": [
    "from langchain_community.document_loaders import DirectoryLoader\n",
    "from langchain_community.document_loaders import TextLoader\n",
    "loader = DirectoryLoader(\"data/text_files\", glob=\"*.txt\",loader_cls=TextLoader)\n",
    "loader.load()\n"
   ]
  },
  {
   "cell_type": "code",
   "execution_count": 5,
   "id": "4e53bbda",
   "metadata": {},
   "outputs": [
    {
     "data": {
      "text/plain": [
       "[Document(metadata={'producer': 'Canva', 'creator': 'Canva', 'creationdate': '2025-10-23T08:55:46+00:00', 'source': 'data\\\\pdf_files\\\\sravan_potnuru.pdf', 'file_path': 'data\\\\pdf_files\\\\sravan_potnuru.pdf', 'total_pages': 2, 'format': 'PDF 1.4', 'title': 'Copy of Sravan potnuru', 'author': 'Sravan Potnuru', 'subject': '', 'keywords': 'DAG2irj_3ks,BAErSMjiGi8,0', 'moddate': '2025-10-23T08:55:45+00:00', 'trapped': '', 'modDate': \"D:20251023085545+00'00'\", 'creationDate': \"D:20251023085546+00'00'\", 'page': 0}, page_content='P R O F I L E  S U M M A R Y\\nA highly motivated and adaptable AI/ML enthusiast with hands-on experience in full-stack development and cloud-based solutions.\\nSkilled in React JS, Spring Boot, and MySQL, capable of designing and maintaining scalable, three-tier architectures with RESTful\\nAPIs. Gained practical expertise through an AI/ML internship, working on real-time video surveillance and facial recognition systems,\\nleveraging FastAPI, Python, Triton Inference Server, and LLM technologies. Experienced in deploying microservices on AWS,\\nautomating pipelines with Lambda, S3, and Kinesis Video Streams, and delivering solutions for government surveillance projects.\\nPassionate about combining AI, cloud, and full-stack development to create impactful, real-world applications.\\nW O R K  E X P E R I E N C E\\nAI/ML Developer Intern\\nParabola9\\n12/2024 – Present | Nuzvid\\nWorking in a microservices-based AI/ML backend team focused on cloud deployments, model inference\\npipelines, and real-time analytics for video intelligence solutions.\\nBuilt and deployed FastAPI-based microservices for video intelligence, handling preprocessing, ML\\ninference, and real-time feature extraction.\\nAutomated CCTV video ingestion pipelines using AWS Lambda, S3, and Kinesis Video Streams for\\nscalable streaming workflows.\\nContainerized inference services and deployed them on AWS EC2 with auto-scaling support.\\nImplemented YOLO-based person detection integrated with BoT-SORT tracking to ensure consistent\\nidentity tracking across frames.\\nIntegrated face recognition models (Buffalo) for embedding generation and identity matching, achieving\\nhigh accuracy in live video feeds.\\nWorked with Triton Inference Server for running high-speed model inference pipelines.\\nDesigned and deployed modules for a government surveillance product, including hands-on evaluations\\nof CCTV camera placements in government warehouses and on-site demonstrations in government\\noffices.\\nCollaborated with stakeholders to ensure compliance with operational and security requirements,\\nproviding actionable insights for real-world government environments.\\nSRAVAN POTNURU\\nP R O J E C T S\\nProject: ParaBot (AI Chat + File Summarizer) | FastAPI, React, OCR, Gemini | GitHub  \\nImplemented an AI assistant that processes text, images, PDFs, and website content with summarization and Q&A\\ncapabilities.\\nProject: Stress Prediction Based on Sleeping Patterns | Python, ML, Streamlit | GitHub\\nDeveloped a machine learning model that predicts stress levels using sleep data and provides wellness suggestions.\\nProject: ScreenSaga (OTT Platform) | React JS, Spring RestAP, MySQL | GitHub (frontend) | GitHub (Backend)\\nBuilt a full-stack OTT platform allowing users to browse movies, web series, trailers, and manage personalized\\nwatchlists. Implemented user authentication, email verification, password reset, and account deletion for secure\\naccount management. Enabled season/episode selection for web series, a “Continue Watching” section, and a\\nfeedback system for engagement. Backend built with Spring Boot REST APIs and MySQL, integrating JSON APIs and\\nSMTP for email confirmations.'),\n",
       " Document(metadata={'producer': 'Canva', 'creator': 'Canva', 'creationdate': '2025-10-23T08:55:46+00:00', 'source': 'data\\\\pdf_files\\\\sravan_potnuru.pdf', 'file_path': 'data\\\\pdf_files\\\\sravan_potnuru.pdf', 'total_pages': 2, 'format': 'PDF 1.4', 'title': 'Copy of Sravan potnuru', 'author': 'Sravan Potnuru', 'subject': '', 'keywords': 'DAG2irj_3ks,BAErSMjiGi8,0', 'moddate': '2025-10-23T08:55:45+00:00', 'trapped': '', 'modDate': \"D:20251023085545+00'00'\", 'creationDate': \"D:20251023085546+00'00'\", 'page': 1}, page_content=\"C E R T I F I C A T I O N\\nSuccessful completion certificate on Java Development Internship.\\nCertification on 7-Days Bootcamp on Basic Web-Dev With Bootstrap.\\nCertification on completion of JavaScript and React JS bootcamp.\\nCertification on completion on Resume, Networking and Interview Skills.\\nC O - C U R R I C U L A R\\nAchieved NCC 'B' Certificate and 'C' Certificate.\\nCertification on completion on Resume, Networking and Interview Skills.\\nCertificate of Merit for All India Essay Writing Event 2018.\\nCertificate of Participation and Certificate of Appreciation for National Level Techno Management Fest \\nCertificate of Participation for All India Inter-University Yoga Championship (2019-2020)\\nC O N T A C T\\n+91 9391872342\\nsravanpotnuru24@gmail.com\\nLinkedIn\\nPortfolio UI\\nRGUKT IIIT  Nuzvid            \\nB.Tech - Computer Science Engineering (CSE)\\n2021 - 2025\\nE D U C A T I O N\\nCGPA: 9.0\\nT E C H  S T A C K\\nWeb Technologies and Libraries: HTML, CSS,\\nBootstrap, React JS\\nProgramming:  Java, Python\\nQuery Languages/Database: MySQL\\nFrameworks: Collections, Hibernate, Spring ,\\nStreamlit (Python)\\nMachine Learning & AI: Machine Learning,   \\nModels: YOLO, Buffalo Insightface\\nTesting: Postman\\nAPI: Fast API, Spring REST API\\nCloud: AWS\\nData Visualization: Power BI\\nTools: Netlify, Vercel, VS Code, Jupyter\\nNotebook, Eclipse, PowerPoint\\nSource Code Management: GIT\\nPre- University Course (PUC) - Intermediate\\nRGUKT IIIT  Nuzvid       \\n2019 - 2021\\nCGPA: 9.62\\nSecondary School - SSC\\nGovernment High School, Srikakulam   \\n2018 - 2019\\nCGPA: 10\\nProject: Company Vault - Filter, Explore, and Locate Companies | React, Material-UI, JSON Server, Vercel | GitHub\\nDeveloped a responsive web application to discover companies with advanced filtering (industry, location, rating,\\nrevenue, employee count), interactive maps with directions, and modals showing company reviews. Implemented a\\nside drawer for filters, real-time map updates, and fast, responsive UI for desktop and mobile users.\\nD E C L A R A T I O N\\n I, POTNURU SRAVANKUMAR hereby declare that the above mentioned information is corrected up to my knowledge and belief; I\\nbear the responsibility for the correctness of the above mentioned particulars.\\nPlace: Nuzvid\\xa0 \\xa0 \\xa0 \\xa0 \\xa0 \\xa0 \\np.sravan kumar\")]"
      ]
     },
     "execution_count": 5,
     "metadata": {},
     "output_type": "execute_result"
    }
   ],
   "source": [
    "from langchain_community.document_loaders import DirectoryLoader\n",
    "from langchain_community.document_loaders import PyPDFLoader,PyMuPDFLoader\n",
    "dir_loader = DirectoryLoader(\"data/pdf_files\", glob=\"*.pdf\",loader_cls=PyMuPDFLoader)\n",
    "dir_loader.load()"
   ]
  },
  {
   "cell_type": "code",
   "execution_count": null,
   "id": "101b7b9b",
   "metadata": {},
   "outputs": [],
   "source": [
    "from langchain_community.document_loaders import WebBaseLoader\n",
    "loader = WebBaseLoader(\"https://medium.com/data-and-beyond/document-loaders-in-langchain-f23d3ce70d66\")\n",
    "loader.load()"
   ]
  }
 ],
 "metadata": {
  "kernelspec": {
   "display_name": "rag_env (3.12.7)",
   "language": "python",
   "name": "python3"
  },
  "language_info": {
   "codemirror_mode": {
    "name": "ipython",
    "version": 3
   },
   "file_extension": ".py",
   "mimetype": "text/x-python",
   "name": "python",
   "nbconvert_exporter": "python",
   "pygments_lexer": "ipython3",
   "version": "3.12.7"
  }
 },
 "nbformat": 4,
 "nbformat_minor": 5
}

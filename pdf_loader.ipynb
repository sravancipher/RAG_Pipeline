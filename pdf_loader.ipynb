{
 "cells": [
  {
   "cell_type": "markdown",
   "id": "b5b6a93b",
   "metadata": {},
   "source": [
    "RAG Pipeline-Data Ingestion to Vector DB"
   ]
  },
  {
   "cell_type": "code",
   "execution_count": null,
   "id": "4dd217c2",
   "metadata": {},
   "outputs": [],
   "source": [
    "from langchain_community.document_loaders import DirectoryLoader\n",
    "from langchain_community.document_loaders import PyPDFLoader,PyMuPDFLoader\n",
    "loader=DirectoryLoader(\"data/pdf_files\", glob=\"*.pdf\",loader_cls=PyMuPDFLoader)\n",
    "data=loader.load()\n",
    "print(data)"
   ]
  },
  {
   "cell_type": "code",
   "execution_count": null,
   "id": "dc49e3ee",
   "metadata": {},
   "outputs": [],
   "source": [
    "from langchain_community.document_loaders import DirectoryLoader\n",
    "from langchain_community.document_loaders import PyPDFLoader,PyMuPDFLoader\n",
    "dir_loader = DirectoryLoader(\"data/pdf_files\", glob=\"*.pdf\",loader_cls=PyMuPDFLoader)\n",
    "dir_loader.load()"
   ]
  }
 ],
 "metadata": {
  "kernelspec": {
   "display_name": "rag_env (3.12.7)",
   "language": "python",
   "name": "python3"
  },
  "language_info": {
   "name": "python",
   "version": "3.12.7"
  }
 },
 "nbformat": 4,
 "nbformat_minor": 5
}

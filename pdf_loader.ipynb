{
 "cells": [
  {
   "cell_type": "markdown",
   "id": "b5b6a93b",
   "metadata": {},
   "source": [
    "RAG Pipeline-Data Ingestion to Vector DB"
   ]
  },
  {
   "cell_type": "code",
   "execution_count": 4,
   "id": "4dd217c2",
   "metadata": {},
   "outputs": [
    {
     "data": {
      "text/plain": [
       "[Document(metadata={'producer': 'Canva', 'creator': 'Canva', 'creationdate': '2025-10-23T08:55:46+00:00', 'source': 'data\\\\pdf_files\\\\sravan_potnuru.pdf', 'file_path': 'data\\\\pdf_files\\\\sravan_potnuru.pdf', 'total_pages': 2, 'format': 'PDF 1.4', 'title': 'Copy of Sravan potnuru', 'author': 'Sravan Potnuru', 'subject': '', 'keywords': 'DAG2irj_3ks,BAErSMjiGi8,0', 'moddate': '2025-10-23T08:55:45+00:00', 'trapped': '', 'modDate': \"D:20251023085545+00'00'\", 'creationDate': \"D:20251023085546+00'00'\", 'page': 0}, page_content='P R O F I L E  S U M M A R Y\\nA highly motivated and adaptable AI/ML enthusiast with hands-on experience in full-stack development and cloud-based solutions.\\nSkilled in React JS, Spring Boot, and MySQL, capable of designing and maintaining scalable, three-tier architectures with RESTful\\nAPIs. Gained practical expertise through an AI/ML internship, working on real-time video surveillance and facial recognition systems,\\nleveraging FastAPI, Python, Triton Inference Server, and LLM technologies. Experienced in deploying microservices on AWS,\\nautomating pipelines with Lambda, S3, and Kinesis Video Streams, and delivering solutions for government surveillance projects.\\nPassionate about combining AI, cloud, and full-stack development to create impactful, real-world applications.\\nW O R K  E X P E R I E N C E\\nAI/ML Developer Intern\\nParabola9\\n12/2024 – Present | Nuzvid\\nWorking in a microservices-based AI/ML backend team focused on cloud deployments, model inference\\npipelines, and real-time analytics for video intelligence solutions.\\nBuilt and deployed FastAPI-based microservices for video intelligence, handling preprocessing, ML\\ninference, and real-time feature extraction.\\nAutomated CCTV video ingestion pipelines using AWS Lambda, S3, and Kinesis Video Streams for\\nscalable streaming workflows.\\nContainerized inference services and deployed them on AWS EC2 with auto-scaling support.\\nImplemented YOLO-based person detection integrated with BoT-SORT tracking to ensure consistent\\nidentity tracking across frames.\\nIntegrated face recognition models (Buffalo) for embedding generation and identity matching, achieving\\nhigh accuracy in live video feeds.\\nWorked with Triton Inference Server for running high-speed model inference pipelines.\\nDesigned and deployed modules for a government surveillance product, including hands-on evaluations\\nof CCTV camera placements in government warehouses and on-site demonstrations in government\\noffices.\\nCollaborated with stakeholders to ensure compliance with operational and security requirements,\\nproviding actionable insights for real-world government environments.\\nSRAVAN POTNURU\\nP R O J E C T S\\nProject: ParaBot (AI Chat + File Summarizer) | FastAPI, React, OCR, Gemini | GitHub  \\nImplemented an AI assistant that processes text, images, PDFs, and website content with summarization and Q&A\\ncapabilities.\\nProject: Stress Prediction Based on Sleeping Patterns | Python, ML, Streamlit | GitHub\\nDeveloped a machine learning model that predicts stress levels using sleep data and provides wellness suggestions.\\nProject: ScreenSaga (OTT Platform) | React JS, Spring RestAP, MySQL | GitHub (frontend) | GitHub (Backend)\\nBuilt a full-stack OTT platform allowing users to browse movies, web series, trailers, and manage personalized\\nwatchlists. Implemented user authentication, email verification, password reset, and account deletion for secure\\naccount management. Enabled season/episode selection for web series, a “Continue Watching” section, and a\\nfeedback system for engagement. Backend built with Spring Boot REST APIs and MySQL, integrating JSON APIs and\\nSMTP for email confirmations.'),\n",
       " Document(metadata={'producer': 'Canva', 'creator': 'Canva', 'creationdate': '2025-10-23T08:55:46+00:00', 'source': 'data\\\\pdf_files\\\\sravan_potnuru.pdf', 'file_path': 'data\\\\pdf_files\\\\sravan_potnuru.pdf', 'total_pages': 2, 'format': 'PDF 1.4', 'title': 'Copy of Sravan potnuru', 'author': 'Sravan Potnuru', 'subject': '', 'keywords': 'DAG2irj_3ks,BAErSMjiGi8,0', 'moddate': '2025-10-23T08:55:45+00:00', 'trapped': '', 'modDate': \"D:20251023085545+00'00'\", 'creationDate': \"D:20251023085546+00'00'\", 'page': 1}, page_content=\"C E R T I F I C A T I O N\\nSuccessful completion certificate on Java Development Internship.\\nCertification on 7-Days Bootcamp on Basic Web-Dev With Bootstrap.\\nCertification on completion of JavaScript and React JS bootcamp.\\nCertification on completion on Resume, Networking and Interview Skills.\\nC O - C U R R I C U L A R\\nAchieved NCC 'B' Certificate and 'C' Certificate.\\nCertification on completion on Resume, Networking and Interview Skills.\\nCertificate of Merit for All India Essay Writing Event 2018.\\nCertificate of Participation and Certificate of Appreciation for National Level Techno Management Fest \\nCertificate of Participation for All India Inter-University Yoga Championship (2019-2020)\\nC O N T A C T\\n+91 9391872342\\nsravanpotnuru24@gmail.com\\nLinkedIn\\nPortfolio UI\\nRGUKT IIIT  Nuzvid            \\nB.Tech - Computer Science Engineering (CSE)\\n2021 - 2025\\nE D U C A T I O N\\nCGPA: 9.0\\nT E C H  S T A C K\\nWeb Technologies and Libraries: HTML, CSS,\\nBootstrap, React JS\\nProgramming:  Java, Python\\nQuery Languages/Database: MySQL\\nFrameworks: Collections, Hibernate, Spring ,\\nStreamlit (Python)\\nMachine Learning & AI: Machine Learning,   \\nModels: YOLO, Buffalo Insightface\\nTesting: Postman\\nAPI: Fast API, Spring REST API\\nCloud: AWS\\nData Visualization: Power BI\\nTools: Netlify, Vercel, VS Code, Jupyter\\nNotebook, Eclipse, PowerPoint\\nSource Code Management: GIT\\nPre- University Course (PUC) - Intermediate\\nRGUKT IIIT  Nuzvid       \\n2019 - 2021\\nCGPA: 9.62\\nSecondary School - SSC\\nGovernment High School, Srikakulam   \\n2018 - 2019\\nCGPA: 10\\nProject: Company Vault - Filter, Explore, and Locate Companies | React, Material-UI, JSON Server, Vercel | GitHub\\nDeveloped a responsive web application to discover companies with advanced filtering (industry, location, rating,\\nrevenue, employee count), interactive maps with directions, and modals showing company reviews. Implemented a\\nside drawer for filters, real-time map updates, and fast, responsive UI for desktop and mobile users.\\nD E C L A R A T I O N\\n I, POTNURU SRAVANKUMAR hereby declare that the above mentioned information is corrected up to my knowledge and belief; I\\nbear the responsibility for the correctness of the above mentioned particulars.\\nPlace: Nuzvid\\xa0 \\xa0 \\xa0 \\xa0 \\xa0 \\xa0 \\np.sravan kumar\")]"
      ]
     },
     "execution_count": 4,
     "metadata": {},
     "output_type": "execute_result"
    }
   ],
   "source": [
    "from langchain_core.documents import Document\n",
    "from langchain_community.document_loaders import DirectoryLoader\n",
    "from langchain_community.document_loaders import PyPDFLoader,PyMuPDFLoader\n",
    "loader=DirectoryLoader(\"data/pdf_files\", glob=\"*.pdf\",loader_cls=PyMuPDFLoader)\n",
    "loader.load()"
   ]
  },
  {
   "cell_type": "code",
   "execution_count": 3,
   "id": "f54c5f91",
   "metadata": {},
   "outputs": [],
   "source": [
    "import os\n",
    "from langchain_community.document_loaders import PyMuPDFLoader, PyPDFLoader\n",
    "from pathlib import Path\n",
    "# Try this first (newer LangChain versions)\n",
    "try:\n",
    "    from langchain_text_splitters import RecursiveCharacterTextSplitter\n",
    "except ImportError:\n",
    "    # Fallback for older versions\n",
    "    from langchain.text_splitter import RecursiveCharacterTextSplitter"
   ]
  },
  {
   "cell_type": "code",
   "execution_count": 10,
   "id": "8d6236ea",
   "metadata": {},
   "outputs": [
    {
     "name": "stdout",
     "output_type": "stream",
     "text": [
      "1  pdf file/s founded\n",
      "file name: sravan_potnuru.pdf\n",
      "2\n"
     ]
    },
    {
     "data": {
      "text/plain": [
       "[Document(metadata={'producer': 'Canva', 'creator': 'Canva', 'creationdate': '2025-10-23T08:55:46+00:00', 'source': 'data\\\\pdf_files\\\\sravan_potnuru.pdf', 'file_path': 'data\\\\pdf_files\\\\sravan_potnuru.pdf', 'total_pages': 2, 'format': 'PDF 1.4', 'title': 'Copy of Sravan potnuru', 'author': 'Sravan Potnuru', 'subject': '', 'keywords': 'DAG2irj_3ks,BAErSMjiGi8,0', 'moddate': '2025-10-23T08:55:45+00:00', 'trapped': '', 'modDate': \"D:20251023085545+00'00'\", 'creationDate': \"D:20251023085546+00'00'\", 'page': 0, 'source_file': 'sravan_potnuru.pdf', 'file_type': 'pdf'}, page_content='P R O F I L E  S U M M A R Y\\nA highly motivated and adaptable AI/ML enthusiast with hands-on experience in full-stack development and cloud-based solutions.\\nSkilled in React JS, Spring Boot, and MySQL, capable of designing and maintaining scalable, three-tier architectures with RESTful\\nAPIs. Gained practical expertise through an AI/ML internship, working on real-time video surveillance and facial recognition systems,\\nleveraging FastAPI, Python, Triton Inference Server, and LLM technologies. Experienced in deploying microservices on AWS,\\nautomating pipelines with Lambda, S3, and Kinesis Video Streams, and delivering solutions for government surveillance projects.\\nPassionate about combining AI, cloud, and full-stack development to create impactful, real-world applications.\\nW O R K  E X P E R I E N C E\\nAI/ML Developer Intern\\nParabola9\\n12/2024 – Present | Nuzvid\\nWorking in a microservices-based AI/ML backend team focused on cloud deployments, model inference\\npipelines, and real-time analytics for video intelligence solutions.\\nBuilt and deployed FastAPI-based microservices for video intelligence, handling preprocessing, ML\\ninference, and real-time feature extraction.\\nAutomated CCTV video ingestion pipelines using AWS Lambda, S3, and Kinesis Video Streams for\\nscalable streaming workflows.\\nContainerized inference services and deployed them on AWS EC2 with auto-scaling support.\\nImplemented YOLO-based person detection integrated with BoT-SORT tracking to ensure consistent\\nidentity tracking across frames.\\nIntegrated face recognition models (Buffalo) for embedding generation and identity matching, achieving\\nhigh accuracy in live video feeds.\\nWorked with Triton Inference Server for running high-speed model inference pipelines.\\nDesigned and deployed modules for a government surveillance product, including hands-on evaluations\\nof CCTV camera placements in government warehouses and on-site demonstrations in government\\noffices.\\nCollaborated with stakeholders to ensure compliance with operational and security requirements,\\nproviding actionable insights for real-world government environments.\\nSRAVAN POTNURU\\nP R O J E C T S\\nProject: ParaBot (AI Chat + File Summarizer) | FastAPI, React, OCR, Gemini | GitHub  \\nImplemented an AI assistant that processes text, images, PDFs, and website content with summarization and Q&A\\ncapabilities.\\nProject: Stress Prediction Based on Sleeping Patterns | Python, ML, Streamlit | GitHub\\nDeveloped a machine learning model that predicts stress levels using sleep data and provides wellness suggestions.\\nProject: ScreenSaga (OTT Platform) | React JS, Spring RestAP, MySQL | GitHub (frontend) | GitHub (Backend)\\nBuilt a full-stack OTT platform allowing users to browse movies, web series, trailers, and manage personalized\\nwatchlists. Implemented user authentication, email verification, password reset, and account deletion for secure\\naccount management. Enabled season/episode selection for web series, a “Continue Watching” section, and a\\nfeedback system for engagement. Backend built with Spring Boot REST APIs and MySQL, integrating JSON APIs and\\nSMTP for email confirmations.'),\n",
       " Document(metadata={'producer': 'Canva', 'creator': 'Canva', 'creationdate': '2025-10-23T08:55:46+00:00', 'source': 'data\\\\pdf_files\\\\sravan_potnuru.pdf', 'file_path': 'data\\\\pdf_files\\\\sravan_potnuru.pdf', 'total_pages': 2, 'format': 'PDF 1.4', 'title': 'Copy of Sravan potnuru', 'author': 'Sravan Potnuru', 'subject': '', 'keywords': 'DAG2irj_3ks,BAErSMjiGi8,0', 'moddate': '2025-10-23T08:55:45+00:00', 'trapped': '', 'modDate': \"D:20251023085545+00'00'\", 'creationDate': \"D:20251023085546+00'00'\", 'page': 1, 'source_file': 'sravan_potnuru.pdf', 'file_type': 'pdf'}, page_content=\"C E R T I F I C A T I O N\\nSuccessful completion certificate on Java Development Internship.\\nCertification on 7-Days Bootcamp on Basic Web-Dev With Bootstrap.\\nCertification on completion of JavaScript and React JS bootcamp.\\nCertification on completion on Resume, Networking and Interview Skills.\\nC O - C U R R I C U L A R\\nAchieved NCC 'B' Certificate and 'C' Certificate.\\nCertification on completion on Resume, Networking and Interview Skills.\\nCertificate of Merit for All India Essay Writing Event 2018.\\nCertificate of Participation and Certificate of Appreciation for National Level Techno Management Fest \\nCertificate of Participation for All India Inter-University Yoga Championship (2019-2020)\\nC O N T A C T\\n+91 9391872342\\nsravanpotnuru24@gmail.com\\nLinkedIn\\nPortfolio UI\\nRGUKT IIIT  Nuzvid            \\nB.Tech - Computer Science Engineering (CSE)\\n2021 - 2025\\nE D U C A T I O N\\nCGPA: 9.0\\nT E C H  S T A C K\\nWeb Technologies and Libraries: HTML, CSS,\\nBootstrap, React JS\\nProgramming:  Java, Python\\nQuery Languages/Database: MySQL\\nFrameworks: Collections, Hibernate, Spring ,\\nStreamlit (Python)\\nMachine Learning & AI: Machine Learning,   \\nModels: YOLO, Buffalo Insightface\\nTesting: Postman\\nAPI: Fast API, Spring REST API\\nCloud: AWS\\nData Visualization: Power BI\\nTools: Netlify, Vercel, VS Code, Jupyter\\nNotebook, Eclipse, PowerPoint\\nSource Code Management: GIT\\nPre- University Course (PUC) - Intermediate\\nRGUKT IIIT  Nuzvid       \\n2019 - 2021\\nCGPA: 9.62\\nSecondary School - SSC\\nGovernment High School, Srikakulam   \\n2018 - 2019\\nCGPA: 10\\nProject: Company Vault - Filter, Explore, and Locate Companies | React, Material-UI, JSON Server, Vercel | GitHub\\nDeveloped a responsive web application to discover companies with advanced filtering (industry, location, rating,\\nrevenue, employee count), interactive maps with directions, and modals showing company reviews. Implemented a\\nside drawer for filters, real-time map updates, and fast, responsive UI for desktop and mobile users.\\nD E C L A R A T I O N\\n I, POTNURU SRAVANKUMAR hereby declare that the above mentioned information is corrected up to my knowledge and belief; I\\nbear the responsibility for the correctness of the above mentioned particulars.\\nPlace: Nuzvid\\xa0 \\xa0 \\xa0 \\xa0 \\xa0 \\xa0 \\np.sravan kumar\")]"
      ]
     },
     "execution_count": 10,
     "metadata": {},
     "output_type": "execute_result"
    }
   ],
   "source": [
    "def read_pdf_files(pdf_dir):\n",
    "    all_documents=[]\n",
    "    pdf_dir=Path(pdf_dir)\n",
    "    pdf_files=list(pdf_dir.glob(\"*.pdf\"))\n",
    "    print(len(pdf_files), \" pdf file/s founded\")\n",
    "    for file in pdf_files:\n",
    "        print(\"file name:\",file.name)\n",
    "        loader=PyMuPDFLoader(str(file))\n",
    "        documents=loader.load()\n",
    "        for doc in documents:\n",
    "            doc.metadata['source_file']=file.name\n",
    "            doc.metadata['file_type']=\"pdf\"\n",
    "        all_documents.extend(documents)\n",
    "        print(len(all_documents))\n",
    "    return all_documents\n",
    "all_pdf_documents=read_pdf_files(\"data/pdf_files\")\n",
    "all_pdf_documents\n",
    "\n",
    "\n"
   ]
  },
  {
   "cell_type": "code",
   "execution_count": null,
   "id": "1cc267a5",
   "metadata": {},
   "outputs": [
    {
     "name": "stdout",
     "output_type": "stream",
     "text": [
      "splitted 2 into 7 chunks\n",
      "[Document(metadata={'producer': 'Canva', 'creator': 'Canva', 'creationdate': '2025-10-23T08:55:46+00:00', 'source': 'data\\\\pdf_files\\\\sravan_potnuru.pdf', 'file_path': 'data\\\\pdf_files\\\\sravan_potnuru.pdf', 'total_pages': 2, 'format': 'PDF 1.4', 'title': 'Copy of Sravan potnuru', 'author': 'Sravan Potnuru', 'subject': '', 'keywords': 'DAG2irj_3ks,BAErSMjiGi8,0', 'moddate': '2025-10-23T08:55:45+00:00', 'trapped': '', 'modDate': \"D:20251023085545+00'00'\", 'creationDate': \"D:20251023085546+00'00'\", 'page': 0, 'source_file': 'sravan_potnuru.pdf', 'file_type': 'pdf'}, page_content='P R O F I L E  S U M M A R Y\\nA highly motivated and adaptable AI/ML enthusiast with hands-on experience in full-stack development and cloud-based solutions.\\nSkilled in React JS, Spring Boot, and MySQL, capable of designing and maintaining scalable, three-tier architectures with RESTful\\nAPIs. Gained practical expertise through an AI/ML internship, working on real-time video surveillance and facial recognition systems,\\nleveraging FastAPI, Python, Triton Inference Server, and LLM technologies. Experienced in deploying microservices on AWS,\\nautomating pipelines with Lambda, S3, and Kinesis Video Streams, and delivering solutions for government surveillance projects.\\nPassionate about combining AI, cloud, and full-stack development to create impactful, real-world applications.\\nW O R K  E X P E R I E N C E\\nAI/ML Developer Intern\\nParabola9\\n12/2024 – Present | Nuzvid\\nWorking in a microservices-based AI/ML backend team focused on cloud deployments, model inference'), Document(metadata={'producer': 'Canva', 'creator': 'Canva', 'creationdate': '2025-10-23T08:55:46+00:00', 'source': 'data\\\\pdf_files\\\\sravan_potnuru.pdf', 'file_path': 'data\\\\pdf_files\\\\sravan_potnuru.pdf', 'total_pages': 2, 'format': 'PDF 1.4', 'title': 'Copy of Sravan potnuru', 'author': 'Sravan Potnuru', 'subject': '', 'keywords': 'DAG2irj_3ks,BAErSMjiGi8,0', 'moddate': '2025-10-23T08:55:45+00:00', 'trapped': '', 'modDate': \"D:20251023085545+00'00'\", 'creationDate': \"D:20251023085546+00'00'\", 'page': 0, 'source_file': 'sravan_potnuru.pdf', 'file_type': 'pdf'}, page_content='Working in a microservices-based AI/ML backend team focused on cloud deployments, model inference\\npipelines, and real-time analytics for video intelligence solutions.\\nBuilt and deployed FastAPI-based microservices for video intelligence, handling preprocessing, ML\\ninference, and real-time feature extraction.\\nAutomated CCTV video ingestion pipelines using AWS Lambda, S3, and Kinesis Video Streams for\\nscalable streaming workflows.\\nContainerized inference services and deployed them on AWS EC2 with auto-scaling support.\\nImplemented YOLO-based person detection integrated with BoT-SORT tracking to ensure consistent\\nidentity tracking across frames.\\nIntegrated face recognition models (Buffalo) for embedding generation and identity matching, achieving\\nhigh accuracy in live video feeds.\\nWorked with Triton Inference Server for running high-speed model inference pipelines.\\nDesigned and deployed modules for a government surveillance product, including hands-on evaluations'), Document(metadata={'producer': 'Canva', 'creator': 'Canva', 'creationdate': '2025-10-23T08:55:46+00:00', 'source': 'data\\\\pdf_files\\\\sravan_potnuru.pdf', 'file_path': 'data\\\\pdf_files\\\\sravan_potnuru.pdf', 'total_pages': 2, 'format': 'PDF 1.4', 'title': 'Copy of Sravan potnuru', 'author': 'Sravan Potnuru', 'subject': '', 'keywords': 'DAG2irj_3ks,BAErSMjiGi8,0', 'moddate': '2025-10-23T08:55:45+00:00', 'trapped': '', 'modDate': \"D:20251023085545+00'00'\", 'creationDate': \"D:20251023085546+00'00'\", 'page': 0, 'source_file': 'sravan_potnuru.pdf', 'file_type': 'pdf'}, page_content='Designed and deployed modules for a government surveillance product, including hands-on evaluations\\nof CCTV camera placements in government warehouses and on-site demonstrations in government\\noffices.\\nCollaborated with stakeholders to ensure compliance with operational and security requirements,\\nproviding actionable insights for real-world government environments.\\nSRAVAN POTNURU\\nP R O J E C T S\\nProject: ParaBot (AI Chat + File Summarizer) | FastAPI, React, OCR, Gemini | GitHub  \\nImplemented an AI assistant that processes text, images, PDFs, and website content with summarization and Q&A\\ncapabilities.\\nProject: Stress Prediction Based on Sleeping Patterns | Python, ML, Streamlit | GitHub\\nDeveloped a machine learning model that predicts stress levels using sleep data and provides wellness suggestions.\\nProject: ScreenSaga (OTT Platform) | React JS, Spring RestAP, MySQL | GitHub (frontend) | GitHub (Backend)'), Document(metadata={'producer': 'Canva', 'creator': 'Canva', 'creationdate': '2025-10-23T08:55:46+00:00', 'source': 'data\\\\pdf_files\\\\sravan_potnuru.pdf', 'file_path': 'data\\\\pdf_files\\\\sravan_potnuru.pdf', 'total_pages': 2, 'format': 'PDF 1.4', 'title': 'Copy of Sravan potnuru', 'author': 'Sravan Potnuru', 'subject': '', 'keywords': 'DAG2irj_3ks,BAErSMjiGi8,0', 'moddate': '2025-10-23T08:55:45+00:00', 'trapped': '', 'modDate': \"D:20251023085545+00'00'\", 'creationDate': \"D:20251023085546+00'00'\", 'page': 0, 'source_file': 'sravan_potnuru.pdf', 'file_type': 'pdf'}, page_content='Built a full-stack OTT platform allowing users to browse movies, web series, trailers, and manage personalized\\nwatchlists. Implemented user authentication, email verification, password reset, and account deletion for secure\\naccount management. Enabled season/episode selection for web series, a “Continue Watching” section, and a\\nfeedback system for engagement. Backend built with Spring Boot REST APIs and MySQL, integrating JSON APIs and\\nSMTP for email confirmations.'), Document(metadata={'producer': 'Canva', 'creator': 'Canva', 'creationdate': '2025-10-23T08:55:46+00:00', 'source': 'data\\\\pdf_files\\\\sravan_potnuru.pdf', 'file_path': 'data\\\\pdf_files\\\\sravan_potnuru.pdf', 'total_pages': 2, 'format': 'PDF 1.4', 'title': 'Copy of Sravan potnuru', 'author': 'Sravan Potnuru', 'subject': '', 'keywords': 'DAG2irj_3ks,BAErSMjiGi8,0', 'moddate': '2025-10-23T08:55:45+00:00', 'trapped': '', 'modDate': \"D:20251023085545+00'00'\", 'creationDate': \"D:20251023085546+00'00'\", 'page': 1, 'source_file': 'sravan_potnuru.pdf', 'file_type': 'pdf'}, page_content=\"C E R T I F I C A T I O N\\nSuccessful completion certificate on Java Development Internship.\\nCertification on 7-Days Bootcamp on Basic Web-Dev With Bootstrap.\\nCertification on completion of JavaScript and React JS bootcamp.\\nCertification on completion on Resume, Networking and Interview Skills.\\nC O - C U R R I C U L A R\\nAchieved NCC 'B' Certificate and 'C' Certificate.\\nCertification on completion on Resume, Networking and Interview Skills.\\nCertificate of Merit for All India Essay Writing Event 2018.\\nCertificate of Participation and Certificate of Appreciation for National Level Techno Management Fest \\nCertificate of Participation for All India Inter-University Yoga Championship (2019-2020)\\nC O N T A C T\\n+91 9391872342\\nsravanpotnuru24@gmail.com\\nLinkedIn\\nPortfolio UI\\nRGUKT IIIT  Nuzvid            \\nB.Tech - Computer Science Engineering (CSE)\\n2021 - 2025\\nE D U C A T I O N\\nCGPA: 9.0\\nT E C H  S T A C K\\nWeb Technologies and Libraries: HTML, CSS,\\nBootstrap, React JS\\nProgramming:  Java, Python\"), Document(metadata={'producer': 'Canva', 'creator': 'Canva', 'creationdate': '2025-10-23T08:55:46+00:00', 'source': 'data\\\\pdf_files\\\\sravan_potnuru.pdf', 'file_path': 'data\\\\pdf_files\\\\sravan_potnuru.pdf', 'total_pages': 2, 'format': 'PDF 1.4', 'title': 'Copy of Sravan potnuru', 'author': 'Sravan Potnuru', 'subject': '', 'keywords': 'DAG2irj_3ks,BAErSMjiGi8,0', 'moddate': '2025-10-23T08:55:45+00:00', 'trapped': '', 'modDate': \"D:20251023085545+00'00'\", 'creationDate': \"D:20251023085546+00'00'\", 'page': 1, 'source_file': 'sravan_potnuru.pdf', 'file_type': 'pdf'}, page_content='Web Technologies and Libraries: HTML, CSS,\\nBootstrap, React JS\\nProgramming:  Java, Python\\nQuery Languages/Database: MySQL\\nFrameworks: Collections, Hibernate, Spring ,\\nStreamlit (Python)\\nMachine Learning & AI: Machine Learning,   \\nModels: YOLO, Buffalo Insightface\\nTesting: Postman\\nAPI: Fast API, Spring REST API\\nCloud: AWS\\nData Visualization: Power BI\\nTools: Netlify, Vercel, VS Code, Jupyter\\nNotebook, Eclipse, PowerPoint\\nSource Code Management: GIT\\nPre- University Course (PUC) - Intermediate\\nRGUKT IIIT  Nuzvid       \\n2019 - 2021\\nCGPA: 9.62\\nSecondary School - SSC\\nGovernment High School, Srikakulam   \\n2018 - 2019\\nCGPA: 10\\nProject: Company Vault - Filter, Explore, and Locate Companies | React, Material-UI, JSON Server, Vercel | GitHub\\nDeveloped a responsive web application to discover companies with advanced filtering (industry, location, rating,\\nrevenue, employee count), interactive maps with directions, and modals showing company reviews. Implemented a'), Document(metadata={'producer': 'Canva', 'creator': 'Canva', 'creationdate': '2025-10-23T08:55:46+00:00', 'source': 'data\\\\pdf_files\\\\sravan_potnuru.pdf', 'file_path': 'data\\\\pdf_files\\\\sravan_potnuru.pdf', 'total_pages': 2, 'format': 'PDF 1.4', 'title': 'Copy of Sravan potnuru', 'author': 'Sravan Potnuru', 'subject': '', 'keywords': 'DAG2irj_3ks,BAErSMjiGi8,0', 'moddate': '2025-10-23T08:55:45+00:00', 'trapped': '', 'modDate': \"D:20251023085545+00'00'\", 'creationDate': \"D:20251023085546+00'00'\", 'page': 1, 'source_file': 'sravan_potnuru.pdf', 'file_type': 'pdf'}, page_content='side drawer for filters, real-time map updates, and fast, responsive UI for desktop and mobile users.\\nD E C L A R A T I O N\\n I, POTNURU SRAVANKUMAR hereby declare that the above mentioned information is corrected up to my knowledge and belief; I\\nbear the responsibility for the correctness of the above mentioned particulars.\\nPlace: Nuzvid\\xa0 \\xa0 \\xa0 \\xa0 \\xa0 \\xa0 \\np.sravan kumar')]\n",
      "doc is: page_content='P R O F I L E  S U M M A R Y\n",
      "A highly motivated and adaptable AI/ML enthusiast with hands-on experience in full-stack development and cloud-based solutions.\n",
      "Skilled in React JS, Spring Boot, and MySQL, capable of designing and maintaining scalable, three-tier architectures with RESTful\n",
      "APIs. Gained practical expertise through an AI/ML internship, working on real-time video surveillance and facial recognition systems,\n",
      "leveraging FastAPI, Python, Triton Inference Server, and LLM technologies. Experienced in deploying microservices on AWS,\n",
      "automating pipelines with Lambda, S3, and Kinesis Video Streams, and delivering solutions for government surveillance projects.\n",
      "Passionate about combining AI, cloud, and full-stack development to create impactful, real-world applications.\n",
      "W O R K  E X P E R I E N C E\n",
      "AI/ML Developer Intern\n",
      "Parabola9\n",
      "12/2024 – Present | Nuzvid\n",
      "Working in a microservices-based AI/ML backend team focused on cloud deployments, model inference' metadata={'producer': 'Canva', 'creator': 'Canva', 'creationdate': '2025-10-23T08:55:46+00:00', 'source': 'data\\\\pdf_files\\\\sravan_potnuru.pdf', 'file_path': 'data\\\\pdf_files\\\\sravan_potnuru.pdf', 'total_pages': 2, 'format': 'PDF 1.4', 'title': 'Copy of Sravan potnuru', 'author': 'Sravan Potnuru', 'subject': '', 'keywords': 'DAG2irj_3ks,BAErSMjiGi8,0', 'moddate': '2025-10-23T08:55:45+00:00', 'trapped': '', 'modDate': \"D:20251023085545+00'00'\", 'creationDate': \"D:20251023085546+00'00'\", 'page': 0, 'source_file': 'sravan_potnuru.pdf', 'file_type': 'pdf'}\n",
      "doc is: page_content='Working in a microservices-based AI/ML backend team focused on cloud deployments, model inference\n",
      "pipelines, and real-time analytics for video intelligence solutions.\n",
      "Built and deployed FastAPI-based microservices for video intelligence, handling preprocessing, ML\n",
      "inference, and real-time feature extraction.\n",
      "Automated CCTV video ingestion pipelines using AWS Lambda, S3, and Kinesis Video Streams for\n",
      "scalable streaming workflows.\n",
      "Containerized inference services and deployed them on AWS EC2 with auto-scaling support.\n",
      "Implemented YOLO-based person detection integrated with BoT-SORT tracking to ensure consistent\n",
      "identity tracking across frames.\n",
      "Integrated face recognition models (Buffalo) for embedding generation and identity matching, achieving\n",
      "high accuracy in live video feeds.\n",
      "Worked with Triton Inference Server for running high-speed model inference pipelines.\n",
      "Designed and deployed modules for a government surveillance product, including hands-on evaluations' metadata={'producer': 'Canva', 'creator': 'Canva', 'creationdate': '2025-10-23T08:55:46+00:00', 'source': 'data\\\\pdf_files\\\\sravan_potnuru.pdf', 'file_path': 'data\\\\pdf_files\\\\sravan_potnuru.pdf', 'total_pages': 2, 'format': 'PDF 1.4', 'title': 'Copy of Sravan potnuru', 'author': 'Sravan Potnuru', 'subject': '', 'keywords': 'DAG2irj_3ks,BAErSMjiGi8,0', 'moddate': '2025-10-23T08:55:45+00:00', 'trapped': '', 'modDate': \"D:20251023085545+00'00'\", 'creationDate': \"D:20251023085546+00'00'\", 'page': 0, 'source_file': 'sravan_potnuru.pdf', 'file_type': 'pdf'}\n",
      "doc is: page_content='Designed and deployed modules for a government surveillance product, including hands-on evaluations\n",
      "of CCTV camera placements in government warehouses and on-site demonstrations in government\n",
      "offices.\n",
      "Collaborated with stakeholders to ensure compliance with operational and security requirements,\n",
      "providing actionable insights for real-world government environments.\n",
      "SRAVAN POTNURU\n",
      "P R O J E C T S\n",
      "Project: ParaBot (AI Chat + File Summarizer) | FastAPI, React, OCR, Gemini | GitHub  \n",
      "Implemented an AI assistant that processes text, images, PDFs, and website content with summarization and Q&A\n",
      "capabilities.\n",
      "Project: Stress Prediction Based on Sleeping Patterns | Python, ML, Streamlit | GitHub\n",
      "Developed a machine learning model that predicts stress levels using sleep data and provides wellness suggestions.\n",
      "Project: ScreenSaga (OTT Platform) | React JS, Spring RestAP, MySQL | GitHub (frontend) | GitHub (Backend)' metadata={'producer': 'Canva', 'creator': 'Canva', 'creationdate': '2025-10-23T08:55:46+00:00', 'source': 'data\\\\pdf_files\\\\sravan_potnuru.pdf', 'file_path': 'data\\\\pdf_files\\\\sravan_potnuru.pdf', 'total_pages': 2, 'format': 'PDF 1.4', 'title': 'Copy of Sravan potnuru', 'author': 'Sravan Potnuru', 'subject': '', 'keywords': 'DAG2irj_3ks,BAErSMjiGi8,0', 'moddate': '2025-10-23T08:55:45+00:00', 'trapped': '', 'modDate': \"D:20251023085545+00'00'\", 'creationDate': \"D:20251023085546+00'00'\", 'page': 0, 'source_file': 'sravan_potnuru.pdf', 'file_type': 'pdf'}\n",
      "doc is: page_content='Built a full-stack OTT platform allowing users to browse movies, web series, trailers, and manage personalized\n",
      "watchlists. Implemented user authentication, email verification, password reset, and account deletion for secure\n",
      "account management. Enabled season/episode selection for web series, a “Continue Watching” section, and a\n",
      "feedback system for engagement. Backend built with Spring Boot REST APIs and MySQL, integrating JSON APIs and\n",
      "SMTP for email confirmations.' metadata={'producer': 'Canva', 'creator': 'Canva', 'creationdate': '2025-10-23T08:55:46+00:00', 'source': 'data\\\\pdf_files\\\\sravan_potnuru.pdf', 'file_path': 'data\\\\pdf_files\\\\sravan_potnuru.pdf', 'total_pages': 2, 'format': 'PDF 1.4', 'title': 'Copy of Sravan potnuru', 'author': 'Sravan Potnuru', 'subject': '', 'keywords': 'DAG2irj_3ks,BAErSMjiGi8,0', 'moddate': '2025-10-23T08:55:45+00:00', 'trapped': '', 'modDate': \"D:20251023085545+00'00'\", 'creationDate': \"D:20251023085546+00'00'\", 'page': 0, 'source_file': 'sravan_potnuru.pdf', 'file_type': 'pdf'}\n",
      "doc is: page_content='C E R T I F I C A T I O N\n",
      "Successful completion certificate on Java Development Internship.\n",
      "Certification on 7-Days Bootcamp on Basic Web-Dev With Bootstrap.\n",
      "Certification on completion of JavaScript and React JS bootcamp.\n",
      "Certification on completion on Resume, Networking and Interview Skills.\n",
      "C O - C U R R I C U L A R\n",
      "Achieved NCC 'B' Certificate and 'C' Certificate.\n",
      "Certification on completion on Resume, Networking and Interview Skills.\n",
      "Certificate of Merit for All India Essay Writing Event 2018.\n",
      "Certificate of Participation and Certificate of Appreciation for National Level Techno Management Fest \n",
      "Certificate of Participation for All India Inter-University Yoga Championship (2019-2020)\n",
      "C O N T A C T\n",
      "+91 9391872342\n",
      "sravanpotnuru24@gmail.com\n",
      "LinkedIn\n",
      "Portfolio UI\n",
      "RGUKT IIIT  Nuzvid            \n",
      "B.Tech - Computer Science Engineering (CSE)\n",
      "2021 - 2025\n",
      "E D U C A T I O N\n",
      "CGPA: 9.0\n",
      "T E C H  S T A C K\n",
      "Web Technologies and Libraries: HTML, CSS,\n",
      "Bootstrap, React JS\n",
      "Programming:  Java, Python' metadata={'producer': 'Canva', 'creator': 'Canva', 'creationdate': '2025-10-23T08:55:46+00:00', 'source': 'data\\\\pdf_files\\\\sravan_potnuru.pdf', 'file_path': 'data\\\\pdf_files\\\\sravan_potnuru.pdf', 'total_pages': 2, 'format': 'PDF 1.4', 'title': 'Copy of Sravan potnuru', 'author': 'Sravan Potnuru', 'subject': '', 'keywords': 'DAG2irj_3ks,BAErSMjiGi8,0', 'moddate': '2025-10-23T08:55:45+00:00', 'trapped': '', 'modDate': \"D:20251023085545+00'00'\", 'creationDate': \"D:20251023085546+00'00'\", 'page': 1, 'source_file': 'sravan_potnuru.pdf', 'file_type': 'pdf'}\n",
      "doc is: page_content='Web Technologies and Libraries: HTML, CSS,\n",
      "Bootstrap, React JS\n",
      "Programming:  Java, Python\n",
      "Query Languages/Database: MySQL\n",
      "Frameworks: Collections, Hibernate, Spring ,\n",
      "Streamlit (Python)\n",
      "Machine Learning & AI: Machine Learning,   \n",
      "Models: YOLO, Buffalo Insightface\n",
      "Testing: Postman\n",
      "API: Fast API, Spring REST API\n",
      "Cloud: AWS\n",
      "Data Visualization: Power BI\n",
      "Tools: Netlify, Vercel, VS Code, Jupyter\n",
      "Notebook, Eclipse, PowerPoint\n",
      "Source Code Management: GIT\n",
      "Pre- University Course (PUC) - Intermediate\n",
      "RGUKT IIIT  Nuzvid       \n",
      "2019 - 2021\n",
      "CGPA: 9.62\n",
      "Secondary School - SSC\n",
      "Government High School, Srikakulam   \n",
      "2018 - 2019\n",
      "CGPA: 10\n",
      "Project: Company Vault - Filter, Explore, and Locate Companies | React, Material-UI, JSON Server, Vercel | GitHub\n",
      "Developed a responsive web application to discover companies with advanced filtering (industry, location, rating,\n",
      "revenue, employee count), interactive maps with directions, and modals showing company reviews. Implemented a' metadata={'producer': 'Canva', 'creator': 'Canva', 'creationdate': '2025-10-23T08:55:46+00:00', 'source': 'data\\\\pdf_files\\\\sravan_potnuru.pdf', 'file_path': 'data\\\\pdf_files\\\\sravan_potnuru.pdf', 'total_pages': 2, 'format': 'PDF 1.4', 'title': 'Copy of Sravan potnuru', 'author': 'Sravan Potnuru', 'subject': '', 'keywords': 'DAG2irj_3ks,BAErSMjiGi8,0', 'moddate': '2025-10-23T08:55:45+00:00', 'trapped': '', 'modDate': \"D:20251023085545+00'00'\", 'creationDate': \"D:20251023085546+00'00'\", 'page': 1, 'source_file': 'sravan_potnuru.pdf', 'file_type': 'pdf'}\n",
      "doc is: page_content='side drawer for filters, real-time map updates, and fast, responsive UI for desktop and mobile users.\n",
      "D E C L A R A T I O N\n",
      " I, POTNURU SRAVANKUMAR hereby declare that the above mentioned information is corrected up to my knowledge and belief; I\n",
      "bear the responsibility for the correctness of the above mentioned particulars.\n",
      "Place: Nuzvid            \n",
      "p.sravan kumar' metadata={'producer': 'Canva', 'creator': 'Canva', 'creationdate': '2025-10-23T08:55:46+00:00', 'source': 'data\\\\pdf_files\\\\sravan_potnuru.pdf', 'file_path': 'data\\\\pdf_files\\\\sravan_potnuru.pdf', 'total_pages': 2, 'format': 'PDF 1.4', 'title': 'Copy of Sravan potnuru', 'author': 'Sravan Potnuru', 'subject': '', 'keywords': 'DAG2irj_3ks,BAErSMjiGi8,0', 'moddate': '2025-10-23T08:55:45+00:00', 'trapped': '', 'modDate': \"D:20251023085545+00'00'\", 'creationDate': \"D:20251023085546+00'00'\", 'page': 1, 'source_file': 'sravan_potnuru.pdf', 'file_type': 'pdf'}\n"
     ]
    }
   ],
   "source": [
    "def split_document(documents,chunk_size=1000,chunk_overlap=100):\n",
    "    text_splitter=RecursiveCharacterTextSplitter(chunk_size=chunk_size,\n",
    "                                                 chunk_overlap=chunk_overlap, \n",
    "                                                 length_function=len,\n",
    "                                                 separators=[\"\\n\\n\", \"\\n\", \" \", \"\"])\n",
    "    split_docs=text_splitter.split_documents(documents)\n",
    "    print(f\"splitted {len(all_pdf_documents)} into {len(split_docs)} chunks\")\n",
    "    print(split_docs)\n",
    "    return split_docs\n",
    "chunks=split_document(all_pdf_documents)\n"
   ]
  },
  {
   "cell_type": "markdown",
   "id": "1bb44d45",
   "metadata": {},
   "source": [
    "Embeddings generator"
   ]
  },
  {
   "cell_type": "code",
   "execution_count": 25,
   "id": "422f5fb6",
   "metadata": {},
   "outputs": [],
   "source": [
    "import numpy as np \n",
    "from sentence_transformers import SentenceTransformer \n",
    "import chromadb \n",
    "from chromadb.config import Settings \n",
    "import uuid \n",
    "from typing import List, Dict, Any, Tuple \n",
    "from sklearn.metrics.pairwise import cosine_similarity"
   ]
  },
  {
   "cell_type": "code",
   "execution_count": 68,
   "id": "8d35f152",
   "metadata": {},
   "outputs": [
    {
     "name": "stdout",
     "output_type": "stream",
     "text": [
      "Loading embedding model: all-MiniLM-L6-v2\n",
      "Model loaded successfully. Embedding dimension: 384\n"
     ]
    }
   ],
   "source": [
    "class EmbeddingManager:\n",
    "     \"\"\"Handles document embedding generation using SentenceTransformer\"\"\" \n",
    "     def __init__(self, model_name: str = \"all-MiniLM-L6-v2\"):\n",
    "         #Initialize the embedding manager Args: model name: HuggingFace model name for sentence embeddings \n",
    "         self.model_name= model_name \n",
    "         self.model=None \n",
    "         self._load_model()\n",
    "     def _load_model(self): \n",
    "        \"\"\"Load the SentenceTransformer model\"\"\" \n",
    "        try: \n",
    "            print(f\"Loading embedding model: {self.model_name}\") \n",
    "            self.model=SentenceTransformer(self.model_name) \n",
    "            print(f\"Model loaded successfully. Embedding dimension: {self.model.get_sentence_embedding_dimension()}\") \n",
    "        except Exception as e: \n",
    "            print(f\"Error loading model {self.model_name}: {e}\") \n",
    "     def generate_embeddings(self,texts:List[str]) :\n",
    "         if not self.model:\n",
    "             print(\"model not loaded\")\n",
    "         embeddings=self.model.encode(texts,show_progress_bar=True)\n",
    "         print(f\"length of embeddings are {len(embeddings)}\")\n",
    "         return embeddings\n",
    "embedding_manager=EmbeddingManager()"
   ]
  },
  {
   "cell_type": "markdown",
   "id": "08a008ac",
   "metadata": {},
   "source": [
    "Vector store"
   ]
  },
  {
   "cell_type": "code",
   "execution_count": 102,
   "id": "d8126049",
   "metadata": {},
   "outputs": [
    {
     "name": "stdout",
     "output_type": "stream",
     "text": [
      "collection is created with name: pdf_documents\n"
     ]
    }
   ],
   "source": [
    "class VectorStore:\n",
    "    def __init__(self,collection_name:str=\"pdf_documents\",persistent_directory:str=\"vector_store\"):\n",
    "        self.collection_name=collection_name\n",
    "        self.persistent_directory=persistent_directory\n",
    "        self.collection=None\n",
    "        self.client=None\n",
    "        self._initialize_store()\n",
    "    def _initialize_store(self):\n",
    "        os.makedirs(self.persistent_directory,exist_ok=True)\n",
    "        self.client=chromadb.PersistentClient(path=self.persistent_directory)\n",
    "        self.collection=self.client.get_or_create_collection(\n",
    "            name=self.collection_name,\n",
    "            metadata={\"description\":\"Am creating the collection using ChromaDB\"}\n",
    "            \n",
    "        )\n",
    "        print(f\"collection is created with name: {self.collection_name}\")\n",
    "        # print(f\"number of documents in {self.collection_name}\")\n",
    "    def add_documents(self,documents:List[Any],embeddings:np.ndarray):\n",
    "        if len(documents)!=len(embeddings):\n",
    "            return None\n",
    "        ids=[]\n",
    "        metadatas=[]\n",
    "        documents_text=[]\n",
    "        embeddings_list=[]\n",
    "        for i,(doc,embedding) in enumerate(zip(documents,embeddings)):\n",
    "            #Generate unique ID \n",
    "            doc_id=f\"doc_(uuid.uuid4().hex[:8])_{i}\" \n",
    "            ids.append(doc_id) \n",
    "            # Prepare metadata \n",
    "            metadata=dict(doc.metadata) \n",
    "            metadata['doc_index'] = i \n",
    "            metadata['content_length'] = len(doc.page_content) \n",
    "            metadatas.append(metadata) \n",
    "            #Document content \n",
    "            documents_text.append(doc.page_content) \n",
    "            # Embedding\n",
    "            embeddings_list.append(embedding.tolist())\n",
    "            try:\n",
    "                self.collection.add(\n",
    "                    ids=ids,\n",
    "                    embeddings=embeddings_list,\n",
    "                    metadatas=metadatas,\n",
    "                    documents=documents_text\n",
    "                )\n",
    "                print(f\"successfully added the document to the {self.collection_name}\")\n",
    "                print(f\"Total documents in the colllection: {self.collection.count()}\")\n",
    "            except:\n",
    "                print(\"Error adding documents to the store\")\n",
    "vector_store=VectorStore()"
   ]
  },
  {
   "cell_type": "code",
   "execution_count": 103,
   "id": "6f6fb31a",
   "metadata": {},
   "outputs": [
    {
     "name": "stdout",
     "output_type": "stream",
     "text": [
      "Text chunks are;  ['P R O F I L E  S U M M A R Y\\nA highly motivated and adaptable AI/ML enthusiast with hands-on experience in full-stack development and cloud-based solutions.\\nSkilled in React JS, Spring Boot, and MySQL, capable of designing and maintaining scalable, three-tier architectures with RESTful\\nAPIs. Gained practical expertise through an AI/ML internship, working on real-time video surveillance and facial recognition systems,\\nleveraging FastAPI, Python, Triton Inference Server, and LLM technologies. Experienced in deploying microservices on AWS,\\nautomating pipelines with Lambda, S3, and Kinesis Video Streams, and delivering solutions for government surveillance projects.\\nPassionate about combining AI, cloud, and full-stack development to create impactful, real-world applications.\\nW O R K  E X P E R I E N C E\\nAI/ML Developer Intern\\nParabola9\\n12/2024 – Present | Nuzvid\\nWorking in a microservices-based AI/ML backend team focused on cloud deployments, model inference', 'Working in a microservices-based AI/ML backend team focused on cloud deployments, model inference\\npipelines, and real-time analytics for video intelligence solutions.\\nBuilt and deployed FastAPI-based microservices for video intelligence, handling preprocessing, ML\\ninference, and real-time feature extraction.\\nAutomated CCTV video ingestion pipelines using AWS Lambda, S3, and Kinesis Video Streams for\\nscalable streaming workflows.\\nContainerized inference services and deployed them on AWS EC2 with auto-scaling support.\\nImplemented YOLO-based person detection integrated with BoT-SORT tracking to ensure consistent\\nidentity tracking across frames.\\nIntegrated face recognition models (Buffalo) for embedding generation and identity matching, achieving\\nhigh accuracy in live video feeds.\\nWorked with Triton Inference Server for running high-speed model inference pipelines.\\nDesigned and deployed modules for a government surveillance product, including hands-on evaluations', 'Designed and deployed modules for a government surveillance product, including hands-on evaluations\\nof CCTV camera placements in government warehouses and on-site demonstrations in government\\noffices.\\nCollaborated with stakeholders to ensure compliance with operational and security requirements,\\nproviding actionable insights for real-world government environments.\\nSRAVAN POTNURU\\nP R O J E C T S\\nProject: ParaBot (AI Chat + File Summarizer) | FastAPI, React, OCR, Gemini | GitHub  \\nImplemented an AI assistant that processes text, images, PDFs, and website content with summarization and Q&A\\ncapabilities.\\nProject: Stress Prediction Based on Sleeping Patterns | Python, ML, Streamlit | GitHub\\nDeveloped a machine learning model that predicts stress levels using sleep data and provides wellness suggestions.\\nProject: ScreenSaga (OTT Platform) | React JS, Spring RestAP, MySQL | GitHub (frontend) | GitHub (Backend)', 'Built a full-stack OTT platform allowing users to browse movies, web series, trailers, and manage personalized\\nwatchlists. Implemented user authentication, email verification, password reset, and account deletion for secure\\naccount management. Enabled season/episode selection for web series, a “Continue Watching” section, and a\\nfeedback system for engagement. Backend built with Spring Boot REST APIs and MySQL, integrating JSON APIs and\\nSMTP for email confirmations.', \"C E R T I F I C A T I O N\\nSuccessful completion certificate on Java Development Internship.\\nCertification on 7-Days Bootcamp on Basic Web-Dev With Bootstrap.\\nCertification on completion of JavaScript and React JS bootcamp.\\nCertification on completion on Resume, Networking and Interview Skills.\\nC O - C U R R I C U L A R\\nAchieved NCC 'B' Certificate and 'C' Certificate.\\nCertification on completion on Resume, Networking and Interview Skills.\\nCertificate of Merit for All India Essay Writing Event 2018.\\nCertificate of Participation and Certificate of Appreciation for National Level Techno Management Fest \\nCertificate of Participation for All India Inter-University Yoga Championship (2019-2020)\\nC O N T A C T\\n+91 9391872342\\nsravanpotnuru24@gmail.com\\nLinkedIn\\nPortfolio UI\\nRGUKT IIIT  Nuzvid            \\nB.Tech - Computer Science Engineering (CSE)\\n2021 - 2025\\nE D U C A T I O N\\nCGPA: 9.0\\nT E C H  S T A C K\\nWeb Technologies and Libraries: HTML, CSS,\\nBootstrap, React JS\\nProgramming:  Java, Python\", 'Web Technologies and Libraries: HTML, CSS,\\nBootstrap, React JS\\nProgramming:  Java, Python\\nQuery Languages/Database: MySQL\\nFrameworks: Collections, Hibernate, Spring ,\\nStreamlit (Python)\\nMachine Learning & AI: Machine Learning,   \\nModels: YOLO, Buffalo Insightface\\nTesting: Postman\\nAPI: Fast API, Spring REST API\\nCloud: AWS\\nData Visualization: Power BI\\nTools: Netlify, Vercel, VS Code, Jupyter\\nNotebook, Eclipse, PowerPoint\\nSource Code Management: GIT\\nPre- University Course (PUC) - Intermediate\\nRGUKT IIIT  Nuzvid       \\n2019 - 2021\\nCGPA: 9.62\\nSecondary School - SSC\\nGovernment High School, Srikakulam   \\n2018 - 2019\\nCGPA: 10\\nProject: Company Vault - Filter, Explore, and Locate Companies | React, Material-UI, JSON Server, Vercel | GitHub\\nDeveloped a responsive web application to discover companies with advanced filtering (industry, location, rating,\\nrevenue, employee count), interactive maps with directions, and modals showing company reviews. Implemented a', 'side drawer for filters, real-time map updates, and fast, responsive UI for desktop and mobile users.\\nD E C L A R A T I O N\\n I, POTNURU SRAVANKUMAR hereby declare that the above mentioned information is corrected up to my knowledge and belief; I\\nbear the responsibility for the correctness of the above mentioned particulars.\\nPlace: Nuzvid\\xa0 \\xa0 \\xa0 \\xa0 \\xa0 \\xa0 \\np.sravan kumar']\n"
     ]
    },
    {
     "data": {
      "text/plain": [
       "7"
      ]
     },
     "execution_count": 103,
     "metadata": {},
     "output_type": "execute_result"
    }
   ],
   "source": [
    "texts=[doc.page_content for doc in chunks]\n",
    "print(\"Text chunks are; \",texts)\n",
    "len(texts)"
   ]
  },
  {
   "cell_type": "code",
   "execution_count": 97,
   "id": "1a74de7c",
   "metadata": {},
   "outputs": [
    {
     "name": "stderr",
     "output_type": "stream",
     "text": [
      "Batches: 100%|██████████| 1/1 [00:00<00:00,  2.48it/s]"
     ]
    },
    {
     "name": "stdout",
     "output_type": "stream",
     "text": [
      "length of embeddings are 7\n",
      "[[-0.09921841 -0.09519143  0.02601445 ... -0.05196509 -0.05783535\n",
      "  -0.04707638]\n",
      " [-0.08265381 -0.0581031   0.01882411 ... -0.02749567  0.01231377\n",
      "  -0.06328682]\n",
      " [-0.08673339 -0.03277342 -0.01005095 ...  0.00216525 -0.05772281\n",
      "   0.02977197]\n",
      " ...\n",
      " [-0.13217147  0.01362875 -0.00745958 ... -0.08978795 -0.06070377\n",
      "  -0.0275821 ]\n",
      " [-0.12108929  0.00088403 -0.07094926 ... -0.09723766 -0.00922065\n",
      "   0.05233534]\n",
      " [-0.06347242  0.07656928  0.01047438 ...  0.12074647 -0.0656387\n",
      "   0.06181148]]\n"
     ]
    },
    {
     "name": "stderr",
     "output_type": "stream",
     "text": [
      "\n"
     ]
    }
   ],
   "source": [
    "embeddings=embedding_manager.generate_embeddings(texts)\n",
    "print(embeddings)"
   ]
  },
  {
   "cell_type": "code",
   "execution_count": 98,
   "id": "79a270b4",
   "metadata": {},
   "outputs": [
    {
     "name": "stdout",
     "output_type": "stream",
     "text": [
      "successfully added the document to the pdf_documents\n",
      "Total documents in the colllection: 7\n",
      "successfully added the document to the pdf_documents\n",
      "Total documents in the colllection: 7\n",
      "successfully added the document to the pdf_documents\n",
      "Total documents in the colllection: 7\n",
      "successfully added the document to the pdf_documents\n",
      "Total documents in the colllection: 7\n",
      "successfully added the document to the pdf_documents\n",
      "Total documents in the colllection: 7\n",
      "successfully added the document to the pdf_documents\n",
      "Total documents in the colllection: 7\n",
      "successfully added the document to the pdf_documents\n",
      "Total documents in the colllection: 7\n"
     ]
    }
   ],
   "source": [
    "vector_store.add_documents(chunks,embeddings)"
   ]
  },
  {
   "cell_type": "markdown",
   "id": "804b62ea",
   "metadata": {},
   "source": [
    "Creating RAG Retrieval"
   ]
  },
  {
   "cell_type": "code",
   "execution_count": 113,
   "id": "da2efbee",
   "metadata": {},
   "outputs": [
    {
     "name": "stdout",
     "output_type": "stream",
     "text": [
      "Retrieving documents for the query: what is the education\n",
      "default top_k is:5 and score_threshold is 0.0\n"
     ]
    },
    {
     "name": "stderr",
     "output_type": "stream",
     "text": [
      "Batches:   0%|          | 0/1 [00:00<?, ?it/s]"
     ]
    },
    {
     "name": "stderr",
     "output_type": "stream",
     "text": [
      "Batches: 100%|██████████| 1/1 [00:00<00:00, 45.40it/s]"
     ]
    },
    {
     "name": "stdout",
     "output_type": "stream",
     "text": [
      "length of embeddings are 1\n",
      "{'ids': [['doc_(uuid.uuid4().hex[:8])_4', 'doc_(uuid.uuid4().hex[:8])_5', 'doc_(uuid.uuid4().hex[:8])_6', 'doc_(uuid.uuid4().hex[:8])_0', 'doc_(uuid.uuid4().hex[:8])_3']], 'embeddings': None, 'documents': [[\"C E R T I F I C A T I O N\\nSuccessful completion certificate on Java Development Internship.\\nCertification on 7-Days Bootcamp on Basic Web-Dev With Bootstrap.\\nCertification on completion of JavaScript and React JS bootcamp.\\nCertification on completion on Resume, Networking and Interview Skills.\\nC O - C U R R I C U L A R\\nAchieved NCC 'B' Certificate and 'C' Certificate.\\nCertification on completion on Resume, Networking and Interview Skills.\\nCertificate of Merit for All India Essay Writing Event 2018.\\nCertificate of Participation and Certificate of Appreciation for National Level Techno Management Fest \\nCertificate of Participation for All India Inter-University Yoga Championship (2019-2020)\\nC O N T A C T\\n+91 9391872342\\nsravanpotnuru24@gmail.com\\nLinkedIn\\nPortfolio UI\\nRGUKT IIIT  Nuzvid            \\nB.Tech - Computer Science Engineering (CSE)\\n2021 - 2025\\nE D U C A T I O N\\nCGPA: 9.0\\nT E C H  S T A C K\\nWeb Technologies and Libraries: HTML, CSS,\\nBootstrap, React JS\\nProgramming:  Java, Python\", 'Web Technologies and Libraries: HTML, CSS,\\nBootstrap, React JS\\nProgramming:  Java, Python\\nQuery Languages/Database: MySQL\\nFrameworks: Collections, Hibernate, Spring ,\\nStreamlit (Python)\\nMachine Learning & AI: Machine Learning,   \\nModels: YOLO, Buffalo Insightface\\nTesting: Postman\\nAPI: Fast API, Spring REST API\\nCloud: AWS\\nData Visualization: Power BI\\nTools: Netlify, Vercel, VS Code, Jupyter\\nNotebook, Eclipse, PowerPoint\\nSource Code Management: GIT\\nPre- University Course (PUC) - Intermediate\\nRGUKT IIIT  Nuzvid       \\n2019 - 2021\\nCGPA: 9.62\\nSecondary School - SSC\\nGovernment High School, Srikakulam   \\n2018 - 2019\\nCGPA: 10\\nProject: Company Vault - Filter, Explore, and Locate Companies | React, Material-UI, JSON Server, Vercel | GitHub\\nDeveloped a responsive web application to discover companies with advanced filtering (industry, location, rating,\\nrevenue, employee count), interactive maps with directions, and modals showing company reviews. Implemented a', 'side drawer for filters, real-time map updates, and fast, responsive UI for desktop and mobile users.\\nD E C L A R A T I O N\\n I, POTNURU SRAVANKUMAR hereby declare that the above mentioned information is corrected up to my knowledge and belief; I\\nbear the responsibility for the correctness of the above mentioned particulars.\\nPlace: Nuzvid\\xa0 \\xa0 \\xa0 \\xa0 \\xa0 \\xa0 \\np.sravan kumar', 'P R O F I L E  S U M M A R Y\\nA highly motivated and adaptable AI/ML enthusiast with hands-on experience in full-stack development and cloud-based solutions.\\nSkilled in React JS, Spring Boot, and MySQL, capable of designing and maintaining scalable, three-tier architectures with RESTful\\nAPIs. Gained practical expertise through an AI/ML internship, working on real-time video surveillance and facial recognition systems,\\nleveraging FastAPI, Python, Triton Inference Server, and LLM technologies. Experienced in deploying microservices on AWS,\\nautomating pipelines with Lambda, S3, and Kinesis Video Streams, and delivering solutions for government surveillance projects.\\nPassionate about combining AI, cloud, and full-stack development to create impactful, real-world applications.\\nW O R K  E X P E R I E N C E\\nAI/ML Developer Intern\\nParabola9\\n12/2024 – Present | Nuzvid\\nWorking in a microservices-based AI/ML backend team focused on cloud deployments, model inference', 'Built a full-stack OTT platform allowing users to browse movies, web series, trailers, and manage personalized\\nwatchlists. Implemented user authentication, email verification, password reset, and account deletion for secure\\naccount management. Enabled season/episode selection for web series, a “Continue Watching” section, and a\\nfeedback system for engagement. Backend built with Spring Boot REST APIs and MySQL, integrating JSON APIs and\\nSMTP for email confirmations.']], 'uris': None, 'included': ['metadatas', 'documents', 'distances'], 'data': None, 'metadatas': [[{'creationDate': \"D:20251023085546+00'00'\", 'modDate': \"D:20251023085545+00'00'\", 'content_length': 998, 'moddate': '2025-10-23T08:55:45+00:00', 'source': 'data\\\\pdf_files\\\\sravan_potnuru.pdf', 'keywords': 'DAG2irj_3ks,BAErSMjiGi8,0', 'file_type': 'pdf', 'subject': '', 'trapped': '', 'author': 'Sravan Potnuru', 'producer': 'Canva', 'page': 1, 'format': 'PDF 1.4', 'file_path': 'data\\\\pdf_files\\\\sravan_potnuru.pdf', 'creationdate': '2025-10-23T08:55:46+00:00', 'creator': 'Canva', 'title': 'Copy of Sravan potnuru', 'source_file': 'sravan_potnuru.pdf', 'total_pages': 2, 'doc_index': 4}, {'producer': 'Canva', 'source_file': 'sravan_potnuru.pdf', 'format': 'PDF 1.4', 'keywords': 'DAG2irj_3ks,BAErSMjiGi8,0', 'file_path': 'data\\\\pdf_files\\\\sravan_potnuru.pdf', 'moddate': '2025-10-23T08:55:45+00:00', 'creationDate': \"D:20251023085546+00'00'\", 'source': 'data\\\\pdf_files\\\\sravan_potnuru.pdf', 'page': 1, 'creator': 'Canva', 'modDate': \"D:20251023085545+00'00'\", 'total_pages': 2, 'doc_index': 5, 'author': 'Sravan Potnuru', 'trapped': '', 'creationdate': '2025-10-23T08:55:46+00:00', 'content_length': 963, 'title': 'Copy of Sravan potnuru', 'subject': '', 'file_type': 'pdf'}, {'file_type': 'pdf', 'creator': 'Canva', 'producer': 'Canva', 'file_path': 'data\\\\pdf_files\\\\sravan_potnuru.pdf', 'modDate': \"D:20251023085545+00'00'\", 'title': 'Copy of Sravan potnuru', 'trapped': '', 'source': 'data\\\\pdf_files\\\\sravan_potnuru.pdf', 'source_file': 'sravan_potnuru.pdf', 'content_length': 366, 'creationdate': '2025-10-23T08:55:46+00:00', 'format': 'PDF 1.4', 'author': 'Sravan Potnuru', 'page': 1, 'subject': '', 'creationDate': \"D:20251023085546+00'00'\", 'total_pages': 2, 'doc_index': 6, 'moddate': '2025-10-23T08:55:45+00:00', 'keywords': 'DAG2irj_3ks,BAErSMjiGi8,0'}, {'title': 'Copy of Sravan potnuru', 'source_file': 'sravan_potnuru.pdf', 'file_path': 'data\\\\pdf_files\\\\sravan_potnuru.pdf', 'author': 'Sravan Potnuru', 'subject': '', 'source': 'data\\\\pdf_files\\\\sravan_potnuru.pdf', 'trapped': '', 'modDate': \"D:20251023085545+00'00'\", 'keywords': 'DAG2irj_3ks,BAErSMjiGi8,0', 'creationdate': '2025-10-23T08:55:46+00:00', 'page': 0, 'doc_index': 0, 'creator': 'Canva', 'total_pages': 2, 'file_type': 'pdf', 'creationDate': \"D:20251023085546+00'00'\", 'content_length': 968, 'format': 'PDF 1.4', 'producer': 'Canva', 'moddate': '2025-10-23T08:55:45+00:00'}, {'content_length': 469, 'producer': 'Canva', 'doc_index': 3, 'total_pages': 2, 'creationdate': '2025-10-23T08:55:46+00:00', 'author': 'Sravan Potnuru', 'subject': '', 'title': 'Copy of Sravan potnuru', 'creationDate': \"D:20251023085546+00'00'\", 'moddate': '2025-10-23T08:55:45+00:00', 'trapped': '', 'page': 0, 'modDate': \"D:20251023085545+00'00'\", 'source': 'data\\\\pdf_files\\\\sravan_potnuru.pdf', 'file_type': 'pdf', 'file_path': 'data\\\\pdf_files\\\\sravan_potnuru.pdf', 'source_file': 'sravan_potnuru.pdf', 'creator': 'Canva', 'format': 'PDF 1.4', 'keywords': 'DAG2irj_3ks,BAErSMjiGi8,0'}]], 'distances': [[1.626018762588501, 1.7862074375152588, 1.865817666053772, 1.8872449398040771, 1.9390000104904175]]}\n",
      "Retrieving results for the query:what is the education\n",
      "Retrieved 5 after filtering\n",
      "------------------------------------------------------------------\n",
      "Result: 1: C E R T I F I C A T I O N\n",
      "Successful completion certificate on Java Development Internship.\n",
      "Certification on 7-Days Bootcamp on Basic Web-Dev With Bootstrap.\n",
      "Certification on completion of JavaScript and React JS bootcamp.\n",
      "Certification on completion on Resume, Networking and Interview Skills.\n",
      "C O - C U R R I C U L A R\n",
      "Achieved NCC 'B' Certificate and 'C' Certificate.\n",
      "Certification on completion on Resume, Networking and Interview Skills.\n",
      "Certificate of Merit for All India Essay Writing Event 2018.\n",
      "Certificate of Participation and Certificate of Appreciation for National Level Techno Management Fest \n",
      "Certificate of Participation for All India Inter-University Yoga Championship (2019-2020)\n",
      "C O N T A C T\n",
      "+91 9391872342\n",
      "sravanpotnuru24@gmail.com\n",
      "LinkedIn\n",
      "Portfolio UI\n",
      "RGUKT IIIT  Nuzvid            \n",
      "B.Tech - Computer Science Engineering (CSE)\n",
      "2021 - 2025\n",
      "E D U C A T I O N\n",
      "CGPA: 9.0\n",
      "T E C H  S T A C K\n",
      "Web Technologies and Libraries: HTML, CSS,\n",
      "Bootstrap, React JS\n",
      "Programming:  Java, Python\n",
      "------------------------------------------------------------------\n",
      "Result: 2: Web Technologies and Libraries: HTML, CSS,\n",
      "Bootstrap, React JS\n",
      "Programming:  Java, Python\n",
      "Query Languages/Database: MySQL\n",
      "Frameworks: Collections, Hibernate, Spring ,\n",
      "Streamlit (Python)\n",
      "Machine Learning & AI: Machine Learning,   \n",
      "Models: YOLO, Buffalo Insightface\n",
      "Testing: Postman\n",
      "API: Fast API, Spring REST API\n",
      "Cloud: AWS\n",
      "Data Visualization: Power BI\n",
      "Tools: Netlify, Vercel, VS Code, Jupyter\n",
      "Notebook, Eclipse, PowerPoint\n",
      "Source Code Management: GIT\n",
      "Pre- University Course (PUC) - Intermediate\n",
      "RGUKT IIIT  Nuzvid       \n",
      "2019 - 2021\n",
      "CGPA: 9.62\n",
      "Secondary School - SSC\n",
      "Government High School, Srikakulam   \n",
      "2018 - 2019\n",
      "CGPA: 10\n",
      "Project: Company Vault - Filter, Explore, and Locate Companies | React, Material-UI, JSON Server, Vercel | GitHub\n",
      "Developed a responsive web application to discover companies with advanced filtering (industry, location, rating,\n",
      "revenue, employee count), interactive maps with directions, and modals showing company reviews. Implemented a\n",
      "------------------------------------------------------------------\n",
      "Result: 3: side drawer for filters, real-time map updates, and fast, responsive UI for desktop and mobile users.\n",
      "D E C L A R A T I O N\n",
      " I, POTNURU SRAVANKUMAR hereby declare that the above mentioned information is corrected up to my knowledge and belief; I\n",
      "bear the responsibility for the correctness of the above mentioned particulars.\n",
      "Place: Nuzvid            \n",
      "p.sravan kumar\n",
      "------------------------------------------------------------------\n",
      "Result: 4: P R O F I L E  S U M M A R Y\n",
      "A highly motivated and adaptable AI/ML enthusiast with hands-on experience in full-stack development and cloud-based solutions.\n",
      "Skilled in React JS, Spring Boot, and MySQL, capable of designing and maintaining scalable, three-tier architectures with RESTful\n",
      "APIs. Gained practical expertise through an AI/ML internship, working on real-time video surveillance and facial recognition systems,\n",
      "leveraging FastAPI, Python, Triton Inference Server, and LLM technologies. Experienced in deploying microservices on AWS,\n",
      "automating pipelines with Lambda, S3, and Kinesis Video Streams, and delivering solutions for government surveillance projects.\n",
      "Passionate about combining AI, cloud, and full-stack development to create impactful, real-world applications.\n",
      "W O R K  E X P E R I E N C E\n",
      "AI/ML Developer Intern\n",
      "Parabola9\n",
      "12/2024 – Present | Nuzvid\n",
      "Working in a microservices-based AI/ML backend team focused on cloud deployments, model inference\n",
      "------------------------------------------------------------------\n",
      "Result: 5: Built a full-stack OTT platform allowing users to browse movies, web series, trailers, and manage personalized\n",
      "watchlists. Implemented user authentication, email verification, password reset, and account deletion for secure\n",
      "account management. Enabled season/episode selection for web series, a “Continue Watching” section, and a\n",
      "feedback system for engagement. Backend built with Spring Boot REST APIs and MySQL, integrating JSON APIs and\n",
      "SMTP for email confirmations.\n"
     ]
    },
    {
     "name": "stderr",
     "output_type": "stream",
     "text": [
      "\n"
     ]
    }
   ],
   "source": [
    "class RAGRetriever:\n",
    "    def __init__(self,vectorstore:VectorStore,embedding_manager:EmbeddingManager):\n",
    "        self.vectorstore=vectorstore\n",
    "        self.embedding_manager=embedding_manager\n",
    "    def retrieve(self,query:str,top_k:int=5,similarity_threshold:float=0.0):\n",
    "        print(f\"Retrieving documents for the query: {query}\")\n",
    "        print(f\"default top_k is:{top_k} and score_threshold is {similarity_threshold}\")\n",
    "        query_embedding=self.embedding_manager.generate_embeddings([query])[0]\n",
    "        # print(query_embedding)\n",
    "        # print([query_embedding.tolist()])\n",
    "        try:\n",
    "            results=self.vectorstore.collection.query(\n",
    "                query_embeddings=[query_embedding.tolist()],\n",
    "                n_results=top_k\n",
    "            )\n",
    "            print(results)\n",
    "            retrieved_docs=[]\n",
    "            if results['documents'] and results['documents'][0]:\n",
    "                print(f\"Retrieving results for the query:{query}\")\n",
    "                documents=results['documents'][0]\n",
    "                metadatas=results['metadatas'][0]\n",
    "                distances=results['distances'][0]\n",
    "                ids=results['ids'][0]\n",
    "                for i,(document,metadata,id,distance) in enumerate(zip(documents,metadatas,ids,distances)):\n",
    "                    cosine=1-distance\n",
    "                    if cosine<=similarity_threshold:\n",
    "                        retrieved_docs.append(\n",
    "                            {\n",
    "                                \"id\":id,\n",
    "                                \"content\":document,\n",
    "                                \"metadata\":metadata,\n",
    "                                \"similarity_score\":cosine,\n",
    "                                \"distance\":distance,\n",
    "                                \"rank\":i+1\n",
    "                            }\n",
    "                        )\n",
    "                print(f\"Retrieved {len(retrieved_docs)} after filtering\")\n",
    "            else:\n",
    "                print(\"No records found\")\n",
    "            return retrieved_docs\n",
    "        except:\n",
    "            print(\"failed retrieving the results\")\n",
    "\n",
    "rag_retriever=RAGRetriever(vector_store,embedding_manager)\n",
    "retrieved_results=rag_retriever.retrieve(\"what is the education\")\n",
    "# print(retrieved_results)\n",
    "for i,result in enumerate(retrieved_results):\n",
    "    print(\"------------------------------------------------------------------\")\n",
    "    print(f\"Result: {i+1}: {result['content']}\")"
   ]
  }
 ],
 "metadata": {
  "kernelspec": {
   "display_name": "rag_env (3.12.7)",
   "language": "python",
   "name": "python3"
  },
  "language_info": {
   "codemirror_mode": {
    "name": "ipython",
    "version": 3
   },
   "file_extension": ".py",
   "mimetype": "text/x-python",
   "name": "python",
   "nbconvert_exporter": "python",
   "pygments_lexer": "ipython3",
   "version": "3.12.7"
  }
 },
 "nbformat": 4,
 "nbformat_minor": 5
}
